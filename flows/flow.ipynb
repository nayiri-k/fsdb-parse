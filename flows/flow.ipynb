{
 "cells": [
  {
   "attachments": {},
   "cell_type": "markdown",
   "metadata": {},
   "source": [
    "### Setup"
   ]
  },
  {
   "cell_type": "code",
   "execution_count": 1,
   "metadata": {},
   "outputs": [],
   "source": [
    "chipyard_dir = \"/tools/scratch/nayiri/power/chipyard-intech16-sep23\"\n",
    "exec(open(f\"util.py\").read())"
   ]
  },
  {
   "cell_type": "code",
   "execution_count": 2,
   "metadata": {},
   "outputs": [],
   "source": [
    "my_rtl = 'RocketConfig'\n",
    "# my_workloads = riscv_benchmarks\n",
    "my_w = 'towers' # stick to one workload for now\n",
    "runparams = {\n",
    "    'rtl': my_rtl,\n",
    "    'bsub': 'bsub -q rhel7',\n",
    "    'overwrite': True,\n",
    "}"
   ]
  },
  {
   "attachments": {},
   "cell_type": "markdown",
   "metadata": {},
   "source": [
    "### Run RTL Sim"
   ]
  },
  {
   "cell_type": "code",
   "execution_count": 3,
   "metadata": {},
   "outputs": [
    {
     "name": "stdout",
     "output_type": "stream",
     "text": [
      "\n",
      "cd /tools/scratch/nayiri/power/chipyard-intech16-sep23\n",
      "source env.sh\n",
      "cd vlsi\n",
      "make sim-rtl-debug CONFIG=RCP BINARY=/tools/scratch/nayiri/power/chipyard-intech16-sep23/.conda-env/riscv-tools/riscv64-unknown-elf/share/riscv-tests/benchmarks/towers.riscv\n",
      "\n"
     ]
    }
   ],
   "source": [
    "print(f\"\"\"\n",
    "cd {chipyard_dir}\n",
    "source env.sh\n",
    "cd vlsi\n",
    "make sim-rtl-debug CONFIG={my_rtl} BINARY={workloads[my_w]['binary_path']}\n",
    "\"\"\")"
   ]
  },
  {
   "attachments": {},
   "cell_type": "markdown",
   "metadata": {},
   "source": [
    "### Parse RTL Sim Waveforms"
   ]
  },
  {
   "cell_type": "markdown",
   "metadata": {},
   "source": [
    "#### Header"
   ]
  },
  {
   "cell_type": "code",
   "execution_count": 4,
   "metadata": {},
   "outputs": [
    {
     "name": "stdout",
     "output_type": "stream",
     "text": [
      "./print_header /tools/scratch/nayiri/power/chipyard-intech16-sep23/vlsi/output/chipyard.harness.TestHarness.RCP/towers.fsdb > /bwrcq/C/nayiri/fsdb-parse/out/fsdb/headers/RCP.txt\n"
     ]
    }
   ],
   "source": [
    "# use any of the workloads to print header info + dump idcodes, since that info is the same across all workloads\n",
    "w = 'towers'\n",
    "waveform_fpath = get_waveform_path(w,my_rtl)\n",
    "header_fpath = get_outfile_path('headers',rtl=my_rtl)\n",
    "print(f\"./print_header {waveform_fpath} > {header_fpath}\")\n"
   ]
  },
  {
   "cell_type": "markdown",
   "metadata": {},
   "source": [
    "#### Idcodes"
   ]
  },
  {
   "cell_type": "code",
   "execution_count": 5,
   "metadata": {},
   "outputs": [
    {
     "name": "stdout",
     "output_type": "stream",
     "text": [
      "total signals: 21715\n",
      "[num_signals] + [signal fsdb idcodes] --> /bwrcq/C/nayiri/fsdb-parse/out/fsdb/idcodes/RCP.txt\n",
      "[num_signals] + [(signal fsdb idcode, signal name(s)), ...] --> /bwrcq/C/nayiri/fsdb-parse/out/fsdb/idcodes/signames-RCP.txt\n"
     ]
    }
   ],
   "source": [
    "dump_idcodes(rtl=my_rtl)"
   ]
  },
  {
   "cell_type": "markdown",
   "metadata": {},
   "source": [
    "#### Dump signal value for each workload"
   ]
  },
  {
   "cell_type": "code",
   "execution_count": 6,
   "metadata": {},
   "outputs": [
    {
     "name": "stdout",
     "output_type": "stream",
     "text": [
      "./dump_signal --fsdb /tools/scratch/nayiri/power/chipyard-intech16-sep23/vlsi/output/chipyard.harness.TestHarness.RCP/towers.fsdb --idcode 175523  --out /bwrcq/C/nayiri/fsdb-parse/out/fsdb/RCP/towers-idcode_175523.bin\n"
     ]
    }
   ],
   "source": [
    "# first, get idcode of instruction signal in Rocket core\n",
    "#   from the Verilog we know this signal name is the path below (this isn't elegant but it works!)\n",
    "signal_name = \"TestDriver/testHarness/chiptop0/system/tile_prci_domain/tile_reset_domain_tile/core/_csr_io_trace_0_insn[31:0]\"\n",
    "signames_idcodes_fpath = get_outfile_path('idcodes','signames',rtl=my_rtl)\n",
    "with open(signames_idcodes_fpath,'r') as f:\n",
    "    for line in f.readlines():\n",
    "        words = line.split()\n",
    "        if len(words) < 2 or not words[0].isnumeric(): continue\n",
    "        if signal_name in words[1]: idcode = int(words[0]); break\n",
    "waveform_fpath = get_waveform_path(my_w,my_rtl)\n",
    "bin_file = get_outfile_path('sigvals',my_w,rtl=my_rtl, idcode=idcode)\n",
    "print(f\"\"\"./dump_signal --fsdb {waveform_fpath} --idcode {idcode}  --out {bin_file}\"\"\")"
   ]
  },
  {
   "cell_type": "markdown",
   "metadata": {},
   "source": [
    "### Load signal value"
   ]
  },
  {
   "cell_type": "code",
   "execution_count": 7,
   "metadata": {},
   "outputs": [],
   "source": [
    "times, sigvals = get_workload_sigvals(my_w,rtl=my_rtl,idcode=idcode)"
   ]
  },
  {
   "cell_type": "code",
   "execution_count": 8,
   "metadata": {},
   "outputs": [
    {
     "name": "stdout",
     "output_type": "stream",
     "text": [
      "0b10110111111001011000010100100011\n",
      "0b11101110\n",
      "0b10100010111\n",
      "0b11111100000001010000010100010011\n",
      "0b110000010101010001000001110011\n",
      "0b110000000100000010001011110011\n",
      "0b1000001001000101101001010010011\n",
      "0b100101111001010010011\n",
      "0b101000010001100011\n",
      "0b110000001100000001000001110011\n"
     ]
    }
   ],
   "source": [
    "# visually compare this output with spike log dump from RTL sim\n",
    "for s in sigvals[:10]:\n",
    "    print(bin(s))"
   ]
  }
 ],
 "metadata": {
  "kernelspec": {
   "display_name": "ml",
   "language": "python",
   "name": "ml"
  },
  "language_info": {
   "codemirror_mode": {
    "name": "ipython",
    "version": 3
   },
   "file_extension": ".py",
   "mimetype": "text/x-python",
   "name": "python",
   "nbconvert_exporter": "python",
   "pygments_lexer": "ipython3",
   "version": "3.10.9"
  }
 },
 "nbformat": 4,
 "nbformat_minor": 2
}
