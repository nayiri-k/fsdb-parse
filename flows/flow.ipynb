{
 "cells": [
  {
   "attachments": {},
   "cell_type": "markdown",
   "metadata": {},
   "source": [
    "### Setup"
   ]
  },
  {
   "cell_type": "code",
   "execution_count": 28,
   "metadata": {},
   "outputs": [],
   "source": [
    "exec(open(\"./variables.py\").read())\n",
    "exec(open(f\"./util.py\").read())"
   ]
  },
  {
   "cell_type": "code",
   "execution_count": 29,
   "metadata": {},
   "outputs": [],
   "source": [
    "my_rtl = 'RCP'\n",
    "# my_workloads = riscv_benchmarks_orig # + riscv_embench\n",
    "my_w = 'towers' # stick to one workload for now\n",
    "runparams = {\n",
    "    'rtl': my_rtl,\n",
    "    'bsub': 'bsub -q rhel7',\n",
    "    'overwrite': True,\n",
    "}"
   ]
  },
  {
   "attachments": {},
   "cell_type": "markdown",
   "metadata": {},
   "source": [
    "### Run RTL Sim"
   ]
  },
  {
   "attachments": {},
   "cell_type": "markdown",
   "metadata": {},
   "source": [
    "### Parse RTL Sim Waveforms"
   ]
  },
  {
   "cell_type": "markdown",
   "metadata": {},
   "source": [
    "#### Header"
   ]
  },
  {
   "cell_type": "code",
   "execution_count": 30,
   "metadata": {},
   "outputs": [
    {
     "name": "stdout",
     "output_type": "stream",
     "text": [
      "./print_header /tools/scratch/nayiri/power/chipyard-intech16-sep23/vlsi/output/chipyard.harness.TestHarness.RCP/towers.fsdb > /tools/C/nayiri/fsdb-parse/out/fsdb/headers/RCP.txt\n"
     ]
    }
   ],
   "source": [
    "exec(open(f\"./util.py\").read())\n",
    "# use any of the workloads to print header info + dump idcodes, since that info is the same across all workloads\n",
    "w = 'towers'\n",
    "waveform_fpath = get_waveform_path(w,my_rtl)\n",
    "header_fpath = get_outfile_path('headers',rtl=my_rtl)\n",
    "print(f\"./print_header {waveform_fpath} > {header_fpath}\")\n"
   ]
  },
  {
   "cell_type": "markdown",
   "metadata": {},
   "source": [
    "#### Idcodes"
   ]
  },
  {
   "cell_type": "code",
   "execution_count": 31,
   "metadata": {},
   "outputs": [
    {
     "name": "stdout",
     "output_type": "stream",
     "text": [
      "total signals: 21715\n",
      "[num_signals] + [signal fsdb idcodes] --> /tools/C/nayiri/fsdb-parse/out/fsdb/idcodes/RCP.txt\n",
      "[num_signals] + [(signal fsdb idcode, signal name(s)), ...] --> /tools/C/nayiri/fsdb-parse/out/fsdb/idcodes/signames-RCP.txt\n"
     ]
    }
   ],
   "source": [
    "dump_idcodes(rtl=my_rtl)"
   ]
  },
  {
   "cell_type": "markdown",
   "metadata": {},
   "source": [
    "#### Dump signal value for each workload"
   ]
  },
  {
   "cell_type": "code",
   "execution_count": 32,
   "metadata": {},
   "outputs": [
    {
     "name": "stdout",
     "output_type": "stream",
     "text": [
      "./dump_signal --fsdb /tools/scratch/nayiri/power/chipyard-intech16-sep23/vlsi/output/chipyard.harness.TestHarness.RCP/towers.fsdb --idcode 175523  --out /tools/C/nayiri/fsdb-parse/out/fsdb/RCP/towers-idcode_175523.bin\n"
     ]
    }
   ],
   "source": [
    "exec(open(f\"./util.py\").read())\n",
    "\n",
    "idcode = 175523\n",
    "waveform_fpath = get_waveform_path(my_w,my_rtl)\n",
    "bin_file = get_outfile_path('sigvals',my_w,rtl=my_rtl, idcode=idcode)\n",
    "print(f\"\"\"./dump_signal --fsdb {waveform_fpath} --idcode {idcode}  --out {bin_file}\"\"\")"
   ]
  },
  {
   "cell_type": "markdown",
   "metadata": {},
   "source": [
    "### Load signal value"
   ]
  },
  {
   "cell_type": "code",
   "execution_count": 35,
   "metadata": {},
   "outputs": [],
   "source": [
    "exec(open(f\"./util.py\").read())\n",
    "\n",
    "times, sigvals = get_workload_sigvals(my_w,rtl=my_rtl,idcode=idcode)"
   ]
  },
  {
   "cell_type": "code",
   "execution_count": 36,
   "metadata": {},
   "outputs": [
    {
     "name": "stdout",
     "output_type": "stream",
     "text": [
      "0b10110111111001011000010100100011\n",
      "0b11101110\n",
      "0b10100010111\n",
      "0b11111100000001010000010100010011\n",
      "0b110000010101010001000001110011\n",
      "0b110000000100000010001011110011\n",
      "0b1000001001000101101001010010011\n",
      "0b100101111001010010011\n",
      "0b101000010001100011\n",
      "0b110000001100000001000001110011\n"
     ]
    }
   ],
   "source": [
    "# visually compare this output with spike log dump from RTL sim\n",
    "for s in sigvals[:10]:\n",
    "    print(bin(s))"
   ]
  }
 ],
 "metadata": {
  "kernelspec": {
   "display_name": "ml",
   "language": "python",
   "name": "ml"
  },
  "language_info": {
   "codemirror_mode": {
    "name": "ipython",
    "version": 3
   },
   "file_extension": ".py",
   "mimetype": "text/x-python",
   "name": "python",
   "nbconvert_exporter": "python",
   "pygments_lexer": "ipython3",
   "version": "3.10.9"
  }
 },
 "nbformat": 4,
 "nbformat_minor": 2
}
